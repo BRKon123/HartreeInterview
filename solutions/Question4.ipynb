{
 "cells": [
  {
   "cell_type": "code",
   "execution_count": 40,
   "id": "8fe813e8-33df-454d-ae66-ea2d8107786c",
   "metadata": {
    "tags": []
   },
   "outputs": [],
   "source": [
    "from fastapi import FastAPI, Query, HTTPException\n",
    "from sqlalchemy import create_engine, text\n",
    "import pandas as pd\n",
    "\n",
    "app = FastAPI()\n",
    "\n",
    "# connect to the database created in question2\n",
    "database_uri = \"sqlite:///../data/my_database.db\"\n",
    "engine = create_engine(database_uri, pool_pre_ping=True)\n",
    "\n",
    "@app.get(\"/average_price\") #execute following function when get request made to /average_price endpoint\n",
    "async def get_average_price(metal: str = Query(..., description=\"Metal name (e.g., 'Copper', 'Zinc')\"),\n",
    "                            start_date: str = Query(..., description=\"Start date (YYYY-MM-DD)\"),\n",
    "                            end_date: str = Query(..., description=\"End date (YYYY-MM-DD)\")):\n",
    "    \n",
    "    # ensure that start_date is before end_date\n",
    "    if datetime.strptime(start_date, '%Y-%m-%d').date() > datetime.strptime(end_date, '%Y-%m-%d').date():\n",
    "        raise HTTPException(status_code=400, detail=\"Invalid date range. Start date must be before end date.\")\n",
    "    \n",
    "    # query the database to calculate the average price for the specified metal and date range\n",
    "    query = text(f\"\"\"\n",
    "        SELECT AVG(Price) AS avg_price\n",
    "        FROM MetalPrices\n",
    "        WHERE Metal = :metal\n",
    "        AND Date >= :start_date\n",
    "        AND Date <= :end_date\n",
    "    \"\"\")\n",
    "    \n",
    "    with engine.connect() as conn:\n",
    "        result = conn.execute(query, metal=metal, start_date=start_date, end_date=end_date)\n",
    "        avg_price = result.scalar()\n",
    "    \n",
    "    if avg_price is None:\n",
    "        raise HTTPException(status_code=404, detail=f\"No data found for {metal} between {start_date} and {end_date}\")\n",
    "    \n",
    "    return {\"metal\": metal, \"start_date\": start_date, \"end_date\": end_date, \"average_price\": avg_price}"
   ]
  },
  {
   "cell_type": "code",
   "execution_count": 33,
   "id": "2c4d7d7e-6c30-4e16-9d66-3a5dc76abee2",
   "metadata": {
    "tags": []
   },
   "outputs": [
    {
     "name": "stdout",
     "output_type": "stream",
     "text": [
      "[NbConvertApp] Converting notebook Question4.ipynb to script\n",
      "[NbConvertApp] Writing 2566 bytes to Question4.py\n"
     ]
    }
   ],
   "source": [
    "!jupyter nbconvert --to script Question4.ipynb\n",
    "#convert the jupyter notebook to a python script so that we can run the app"
   ]
  },
  {
   "cell_type": "code",
   "execution_count": 42,
   "id": "bf1f1107-93a9-4323-87d0-9e189fc967af",
   "metadata": {
    "tags": []
   },
   "outputs": [],
   "source": [
    "import requests\n",
    "\n",
    "#define the URL of your FastAPI app endpoint\n",
    "url = \"http://127.0.0.1:8000/average_price\"\n",
    "\n",
    "#define query parameters for the request\n",
    "params1 = {\n",
    "    \"metal\": \"Copper\",\n",
    "    \"start_date\": \"2020-01-01\",\n",
    "    \"end_date\": \"2021-12-31\"\n",
    "}\n",
    "\n",
    "params2 = {\n",
    "    \"metal\": \"Zinc_RSI\",\n",
    "    \"start_date\": \"2021-09-01\",\n",
    "    \"end_date\": \"2021-12-31\"\n",
    "}\n",
    "\n",
    "\n",
    "params3 = {\n",
    "    \"metal\": \"Copper_MACD\",\n",
    "    \"start_date\": \"2022-09-01\",\n",
    "    \"end_date\": \"2021-12-31\"\n",
    "}\n",
    "\n",
    "# Send the get request\n",
    "response1 = requests.get(url, params=params1)\n",
    "\n",
    "response2 = requests.get(url, params=params2)\n",
    "#this one should not work\n",
    "response3 = requests.get(url, params=params3)"
   ]
  },
  {
   "cell_type": "code",
   "execution_count": 43,
   "id": "b0b18a4e-e4f3-400d-8669-a816329fdd74",
   "metadata": {
    "tags": []
   },
   "outputs": [
    {
     "data": {
      "text/plain": [
       "{'metal': 'Copper',\n",
       " 'start_date': '2020-01-01',\n",
       " 'end_date': '2021-12-31',\n",
       " 'average_price': 7736.883141762452}"
      ]
     },
     "execution_count": 43,
     "metadata": {},
     "output_type": "execute_result"
    }
   ],
   "source": [
    "response1.json()"
   ]
  },
  {
   "cell_type": "code",
   "execution_count": 44,
   "id": "68ebf715-d0a7-4b34-9f68-d431c269933e",
   "metadata": {
    "tags": []
   },
   "outputs": [
    {
     "data": {
      "text/plain": [
       "{'metal': 'Zinc_RSI',\n",
       " 'start_date': '2021-09-01',\n",
       " 'end_date': '2021-12-31',\n",
       " 'average_price': 54.913400548983816}"
      ]
     },
     "execution_count": 44,
     "metadata": {},
     "output_type": "execute_result"
    }
   ],
   "source": [
    "response2.json()"
   ]
  },
  {
   "cell_type": "code",
   "execution_count": 45,
   "id": "d27a432a-8041-4cbe-8656-a3897c11e295",
   "metadata": {
    "tags": []
   },
   "outputs": [
    {
     "data": {
      "text/plain": [
       "{'detail': 'Invalid date range. Start date must be before end date.'}"
      ]
     },
     "execution_count": 45,
     "metadata": {},
     "output_type": "execute_result"
    }
   ],
   "source": [
    "response3.json()"
   ]
  },
  {
   "cell_type": "code",
   "execution_count": null,
   "id": "ba50cead-631b-42a9-a926-4df9fb8d1d7f",
   "metadata": {},
   "outputs": [],
   "source": []
  }
 ],
 "metadata": {
  "kernelspec": {
   "display_name": "Python 3 (ipykernel)",
   "language": "python",
   "name": "python3"
  },
  "language_info": {
   "codemirror_mode": {
    "name": "ipython",
    "version": 3
   },
   "file_extension": ".py",
   "mimetype": "text/x-python",
   "name": "python",
   "nbconvert_exporter": "python",
   "pygments_lexer": "ipython3",
   "version": "3.11.4"
  }
 },
 "nbformat": 4,
 "nbformat_minor": 5
}
