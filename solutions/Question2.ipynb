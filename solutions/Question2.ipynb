{
 "cells": [
  {
   "cell_type": "markdown",
   "id": "eb8ab893-e01a-4323-81c1-9875065f863e",
   "metadata": {},
   "source": [
    "Question 2: CRUD Operations in SQL Server\n",
    "\n",
    "Objective: Basic SQL Server interactions.\n",
    "\n",
    "Task:\n",
    "\n",
    "Create an SQL table schema to store time-series metal prices. Include fields like Date, Metal, Price.\n",
    "Demonstrate basic CRUD operations"
   ]
  },
  {
   "cell_type": "code",
   "execution_count": 1,
   "id": "b7858deb-f895-4f50-a147-a4c71104c8d0",
   "metadata": {
    "tags": []
   },
   "outputs": [],
   "source": [
    "# Step 1: Import necessary libraries\n",
    "import sqlalchemy\n",
    "from sqlalchemy import create_engine, MetaData, Table, Column, Integer, String, Float"
   ]
  },
  {
   "cell_type": "code",
   "execution_count": 2,
   "id": "f3703c49-21a2-4047-8816-1528d16650e7",
   "metadata": {
    "tags": []
   },
   "outputs": [],
   "source": [
    "# Create an SQLAlchemy database connection\n",
    "database_uri = \"sqlite:///../data/my_database.db\"\n",
    "engine = create_engine(database_uri, pool_pre_ping=True)\n",
    "\n",
    "#Define a table schema for storing time-series metal prices\n",
    "metadata = MetaData()\n",
    "\n",
    "metal_prices = Table(\n",
    "    'MetalPrices',\n",
    "    metadata,\n",
    "    Column('ID', Integer, primary_key=True),\n",
    "    Column('Date', String),  # Adjust data type as per your date format\n",
    "    Column('Metal', String),\n",
    "    Column('Price', Float)\n",
    ")\n",
    "\n",
    "#Create the table in the database\n",
    "metadata.create_all(engine)\n"
   ]
  },
  {
   "cell_type": "code",
   "execution_count": 3,
   "id": "4cd1e7e6-9ab6-4cf3-a9de-5bc67dcfad5f",
   "metadata": {
    "tags": []
   },
   "outputs": [
    {
     "name": "stdout",
     "output_type": "stream",
     "text": [
      "Date: 2023-09-25, Metal: Copper, Price: 7500.5\n"
     ]
    }
   ],
   "source": [
    "\n",
    "# Insert data into the table\n",
    "insert_query = metal_prices.insert().values(Date='2023-09-25', Metal='Copper', Price=7500.50)\n",
    "engine.execute(insert_query)\n",
    "\n",
    "# Read data from the table\n",
    "select_query = metal_prices.select().where(metal_prices.c.Metal == 'Copper')\n",
    "result = engine.execute(select_query)\n",
    "for row in result:\n",
    "    print(f\"Date: {row['Date']}, Metal: {row['Metal']}, Price: {row['Price']}\")"
   ]
  },
  {
   "cell_type": "code",
   "execution_count": 4,
   "id": "21f860ba-0514-499a-a742-70db68f41d3c",
   "metadata": {
    "tags": []
   },
   "outputs": [
    {
     "data": {
      "text/plain": [
       "<sqlalchemy.engine.cursor.LegacyCursorResult at 0x111e643d0>"
      ]
     },
     "execution_count": 4,
     "metadata": {},
     "output_type": "execute_result"
    }
   ],
   "source": [
    "# Update data in the table\n",
    "update_query = metal_prices.update().where(metal_prices.c.ID == 1).values(Price=7600.75)\n",
    "engine.execute(update_query)\n",
    "\n",
    "# Delete data from the table\n",
    "delete_query = metal_prices.delete().where(metal_prices.c.ID == 1)\n",
    "engine.execute(delete_query)"
   ]
  },
  {
   "cell_type": "code",
   "execution_count": null,
   "id": "0d297f48-7f6f-4815-bf9e-d7f7e496e0a4",
   "metadata": {
    "tags": []
   },
   "outputs": [],
   "source": []
  },
  {
   "cell_type": "code",
   "execution_count": null,
   "id": "305d8ba5-9cfc-4343-83fb-46119d5386ec",
   "metadata": {},
   "outputs": [],
   "source": []
  },
  {
   "cell_type": "code",
   "execution_count": null,
   "id": "b4aa9152-4483-4249-8b7a-c3ca5a83f156",
   "metadata": {},
   "outputs": [],
   "source": []
  },
  {
   "cell_type": "code",
   "execution_count": null,
   "id": "e4e60b5b-285f-47f6-aa58-eaf6a6bcf792",
   "metadata": {},
   "outputs": [],
   "source": []
  }
 ],
 "metadata": {
  "kernelspec": {
   "display_name": "Python 3 (ipykernel)",
   "language": "python",
   "name": "python3"
  },
  "language_info": {
   "codemirror_mode": {
    "name": "ipython",
    "version": 3
   },
   "file_extension": ".py",
   "mimetype": "text/x-python",
   "name": "python",
   "nbconvert_exporter": "python",
   "pygments_lexer": "ipython3",
   "version": "3.11.4"
  }
 },
 "nbformat": 4,
 "nbformat_minor": 5
}
