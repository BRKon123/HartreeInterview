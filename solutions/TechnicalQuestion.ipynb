{
 "cells": [
  {
   "cell_type": "markdown",
   "id": "7b4a1dee-eeaf-4616-b028-20638aeba549",
   "metadata": {},
   "source": [
    "Data Sources: Identify the data sources you'll use (e.g., APIs, databases, web scraping). Ensure that you can retrieve data asynchronously in order to ensure that indicator calculations are completed as soon as possible. I would store retrieved data using in-memory data structures for quick access during indicator calculations, before storing the results of this calculations in a database. The database schema should also contain tables that describe the various indicators, parameters we want, and the securities we want to calculate them for. This way we can tell which indicator calculation corresponds to which security and parameters.\n",
    "You could also use caching mechanisms to store calculated indicators temporarily. This is useful if the same parameters are requested frequent and rely on past data, meaning you can avoid redundant calculations.\n",
    "The code should be organised into modular components. For example we could have seperate modules for data retreival, indicator calculations and database interactions.\n",
    "Finally there should also be code to monitor the progress of the indicator calculations and troubleshoot errors if things go wrong"
   ]
  }
 ],
 "metadata": {
  "kernelspec": {
   "display_name": "Python 3 (ipykernel)",
   "language": "python",
   "name": "python3"
  },
  "language_info": {
   "codemirror_mode": {
    "name": "ipython",
    "version": 3
   },
   "file_extension": ".py",
   "mimetype": "text/x-python",
   "name": "python",
   "nbconvert_exporter": "python",
   "pygments_lexer": "ipython3",
   "version": "3.11.4"
  }
 },
 "nbformat": 4,
 "nbformat_minor": 5
}
