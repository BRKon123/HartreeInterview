{
 "cells": [
  {
   "cell_type": "markdown",
   "id": "86e22d93-8910-4bd6-9ee6-888d28b04e27",
   "metadata": {},
   "source": [
    "Here we rewrite code from question 5)\n",
    "\n",
    "We have created functions to add items to the database. Each function has a specific and well-defined purpose, making it easy to understand and reuse individual components question 5) in the future.\n",
    "The functions encapsulate also specific database operations and model management tasks, which abstracts away the underlying implementation details\n",
    "The code is also more readable since function names clearly describe their purpose. It is also much easier to test this code because each function can be tested independently. Finally it is also easier to add additional functionality without affecting existing functionality."
   ]
  },
  {
   "cell_type": "code",
   "execution_count": 2,
   "id": "29e72bd5-ff44-446e-874b-ade4d56c071a",
   "metadata": {
    "tags": []
   },
   "outputs": [],
   "source": [
    "def save_model(model, model_file_path):\n",
    "    joblib.dump(model, model_file_path)\n",
    "\n",
    "def load_model(model_file_path):\n",
    "    return joblib.load(model_file_path)\n",
    "\n",
    "def create_metal(session, name):\n",
    "    metal = Metal(name=name)\n",
    "    session.add(metal)\n",
    "    session.commit()\n",
    "    return metal\n",
    "\n",
    "def create_strategy(session, name):\n",
    "    strategy = Strategy(name=name)\n",
    "    session.add(strategy)\n",
    "    session.commit()\n",
    "    return strategy\n",
    "\n",
    "def create_model(session, name, file_path, model_metadata, metal, strategy):\n",
    "    new_model = Model(\n",
    "        name=name,\n",
    "        file_path=file_path,\n",
    "        model_metadata=model_metadata,\n",
    "        metal=metal,\n",
    "        strategy=strategy\n",
    "    )\n",
    "    session.add(new_model)\n",
    "    session.commit()\n",
    "    return new_model\n",
    "\n",
    "def get_model_by_name(session, model_name):\n",
    "    return session.query(Model).filter(Model.name == model_name).first()"
   ]
  }
 ],
 "metadata": {
  "kernelspec": {
   "display_name": "Python 3 (ipykernel)",
   "language": "python",
   "name": "python3"
  },
  "language_info": {
   "codemirror_mode": {
    "name": "ipython",
    "version": 3
   },
   "file_extension": ".py",
   "mimetype": "text/x-python",
   "name": "python",
   "nbconvert_exporter": "python",
   "pygments_lexer": "ipython3",
   "version": "3.11.4"
  }
 },
 "nbformat": 4,
 "nbformat_minor": 5
}
