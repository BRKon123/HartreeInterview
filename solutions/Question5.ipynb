{
 "cells": [
  {
   "cell_type": "markdown",
   "id": "6c625eab-266a-4908-9680-2cfd18495675",
   "metadata": {},
   "source": [
    "Question 5: Advanced Data Storage and Model Serialization\n",
    "\n",
    "Objective: Evaluate understanding of advanced database storage mechanisms and model storage.\n",
    "\n",
    "Task:\n",
    "\n",
    "Design a SQL schema for storing machine learning models that can be linked to different metals and their respective trading strategies.\n",
    "Serialize a simple Scikit-learn model and store it in the database (HELP: this could be storing the file name of the pickled object, with some metadata about the stored model).\n",
    "Write a CRUD function to fetch this model from the database."
   ]
  },
  {
   "cell_type": "code",
   "execution_count": 9,
   "id": "03f14aae-7088-4252-8982-096bba23076c",
   "metadata": {
    "tags": []
   },
   "outputs": [],
   "source": [
    "from sqlalchemy import create_engine, Column, Integer, String, ForeignKey, JSON, insert, select\n",
    "from sqlalchemy.orm import sessionmaker, relationship\n",
    "from sqlalchemy.ext.declarative import declarative_base\n",
    "import joblib\n",
    "import pandas as pd\n",
    "import numpy as np\n",
    "from sklearn.linear_model import LinearRegression\n",
    "import pickle"
   ]
  },
  {
   "cell_type": "code",
   "execution_count": 10,
   "id": "9a0c7c61-dc99-4364-9dbc-769f30043300",
   "metadata": {
    "tags": []
   },
   "outputs": [],
   "source": [
    "\n",
    "Base = declarative_base()\n",
    "\n",
    "#here we crate the database schema\n",
    "class Metal(Base):\n",
    "    __tablename__ = 'metal'\n",
    "\n",
    "    id = Column(Integer, primary_key=True)\n",
    "    name = Column(String, unique=True)\n",
    "\n",
    "class Strategy(Base):\n",
    "    __tablename__ = 'strategy'\n",
    "\n",
    "    id = Column(Integer, primary_key=True)\n",
    "    name = Column(String, unique=True)\n",
    "\n",
    "class Model(Base):\n",
    "    __tablename__ = 'model'\n",
    "\n",
    "    id = Column(Integer, primary_key=True)\n",
    "    name = Column(String)\n",
    "    file_path = Column(String)\n",
    "    model_metadata = Column(JSON)\n",
    "\n",
    "    metal_id = Column(Integer, ForeignKey('metal.id')) #many-to-one relationship with metalid\n",
    "    strategy_id = Column(Integer, ForeignKey('strategy.id')) #many-to-one relationship with strategy id\n",
    "\n",
    "    metal = relationship('Metal', back_populates='models')\n",
    "    strategy = relationship('Strategy', back_populates='models')\n",
    "\n",
    "Metal.models = relationship('Model', back_populates='metal')\n",
    "Strategy.models = relationship('Model', back_populates='strategy')\n",
    "\n",
    "# Define the database connection\n",
    "database_uri = \"sqlite:///../data/my_database.db\"\n",
    "engine = create_engine(database_uri, pool_pre_ping=True)\n",
    "\n",
    "# Create the tables\n",
    "Base.metadata.create_all(engine)"
   ]
  },
  {
   "cell_type": "code",
   "execution_count": 11,
   "id": "753696e3-6840-459d-a2d9-f67dabddf11f",
   "metadata": {
    "tags": []
   },
   "outputs": [],
   "source": [
    "# Insert a record into the 'metal' table using the engine\n",
    "insert_metal = insert(Metal).values(name='Copper')\n",
    "engine.execute(insert_metal)\n",
    "\n",
    "# Retrieve the ID of 'Copper' from the 'metal' table using the engine\n",
    "select_metal_id = select([Metal.id]).where(Metal.name == 'Copper')\n",
    "result = engine.execute(select_metal_id)\n",
    "copper_id = result.scalar()\n",
    "\n",
    "# Insert a record into the 'strategy' table using the engine\n",
    "insert_strategy = insert(Strategy).values(name='LagReturnsStrategy')\n",
    "engine.execute(insert_strategy)\n",
    "\n",
    "# Retrieve the ID of 'LagReturnsStrategy' from the 'strategy' table using the engine\n",
    "select_strategy_id = select([Strategy.id]).where(Strategy.name == 'LagReturnsStrategy')\n",
    "result = engine.execute(select_strategy_id)\n",
    "strategy_id = result.scalar()"
   ]
  },
  {
   "cell_type": "code",
   "execution_count": 12,
   "id": "41ffac76-b639-4458-9cb0-21c75ba29428",
   "metadata": {
    "tags": []
   },
   "outputs": [
    {
     "data": {
      "text/plain": [
       "1"
      ]
     },
     "execution_count": 12,
     "metadata": {},
     "output_type": "execute_result"
    }
   ],
   "source": [
    "strategy_id"
   ]
  },
  {
   "cell_type": "code",
   "execution_count": 13,
   "id": "2d040810-28e1-4cfa-ac5f-22b32be6e067",
   "metadata": {
    "tags": []
   },
   "outputs": [],
   "source": [
    "\n",
    "#get copper data to create simple sklearn model\n",
    "query = \"SELECT * FROM MetalPrices WHERE Metal = 'Copper'\"\n",
    "\n",
    "# Use pandas to read the query result into a DataFrame\n",
    "df = pd.read_sql_query(query, engine)\n",
    "df['returns'] = np.log(df.Price.pct_change()+1) \n",
    "df.drop(columns=['ID','Date','Metal','Price'], axis=1, inplace=True) #drop the cols we dont need to build model\n",
    "df['lag_returns'] = df['returns'].shift(1)\n",
    "df.dropna(inplace=True)"
   ]
  },
  {
   "cell_type": "code",
   "execution_count": 14,
   "id": "cfb98c4c-c32f-4b10-8cfd-9b53511ddcdd",
   "metadata": {
    "tags": []
   },
   "outputs": [
    {
     "data": {
      "text/html": [
       "<div>\n",
       "<style scoped>\n",
       "    .dataframe tbody tr th:only-of-type {\n",
       "        vertical-align: middle;\n",
       "    }\n",
       "\n",
       "    .dataframe tbody tr th {\n",
       "        vertical-align: top;\n",
       "    }\n",
       "\n",
       "    .dataframe thead th {\n",
       "        text-align: right;\n",
       "    }\n",
       "</style>\n",
       "<table border=\"1\" class=\"dataframe\">\n",
       "  <thead>\n",
       "    <tr style=\"text-align: right;\">\n",
       "      <th></th>\n",
       "      <th>returns</th>\n",
       "      <th>lag_returns</th>\n",
       "    </tr>\n",
       "  </thead>\n",
       "  <tbody>\n",
       "    <tr>\n",
       "      <th>2</th>\n",
       "      <td>-0.009499</td>\n",
       "      <td>0.002265</td>\n",
       "    </tr>\n",
       "    <tr>\n",
       "      <th>3</th>\n",
       "      <td>0.001467</td>\n",
       "      <td>-0.009499</td>\n",
       "    </tr>\n",
       "    <tr>\n",
       "      <th>4</th>\n",
       "      <td>0.001709</td>\n",
       "      <td>0.001467</td>\n",
       "    </tr>\n",
       "    <tr>\n",
       "      <th>5</th>\n",
       "      <td>0.004705</td>\n",
       "      <td>0.001709</td>\n",
       "    </tr>\n",
       "    <tr>\n",
       "      <th>6</th>\n",
       "      <td>0.000324</td>\n",
       "      <td>0.004705</td>\n",
       "    </tr>\n",
       "  </tbody>\n",
       "</table>\n",
       "</div>"
      ],
      "text/plain": [
       "    returns  lag_returns\n",
       "2 -0.009499     0.002265\n",
       "3  0.001467    -0.009499\n",
       "4  0.001709     0.001467\n",
       "5  0.004705     0.001709\n",
       "6  0.000324     0.004705"
      ]
     },
     "execution_count": 14,
     "metadata": {},
     "output_type": "execute_result"
    }
   ],
   "source": [
    "df.head()"
   ]
  },
  {
   "cell_type": "code",
   "execution_count": 15,
   "id": "c90ab554-3221-4f9a-aeb3-3bb769ca3b88",
   "metadata": {},
   "outputs": [
    {
     "data": {
      "text/plain": [
       "array([-0.04622852])"
      ]
     },
     "execution_count": 15,
     "metadata": {},
     "output_type": "execute_result"
    }
   ],
   "source": [
    "#creating basic simple linear regression that uses last returns to find next returns\n",
    "model = LinearRegression()\n",
    "model.fit(np.array(df['lag_returns']).reshape(-1,1),df['returns'])\n",
    "model.coef_"
   ]
  },
  {
   "cell_type": "code",
   "execution_count": 16,
   "id": "eb58e4ea-7303-417d-9c06-3e2a480c1514",
   "metadata": {
    "tags": []
   },
   "outputs": [
    {
     "data": {
      "text/plain": [
       "['model.pkl']"
      ]
     },
     "execution_count": 16,
     "metadata": {},
     "output_type": "execute_result"
    }
   ],
   "source": [
    "#creating pickled object\n",
    "model_file_path = \"model.pkl\"\n",
    "joblib.dump(model, model_file_path)"
   ]
  },
  {
   "cell_type": "code",
   "execution_count": null,
   "id": "bf910dfe-0e57-4cc1-8dd6-8f701e53722a",
   "metadata": {
    "tags": []
   },
   "outputs": [],
   "source": []
  },
  {
   "cell_type": "code",
   "execution_count": 17,
   "id": "c5fd3c0a-0e73-4ff7-b0c7-abb705145aec",
   "metadata": {
    "tags": []
   },
   "outputs": [],
   "source": [
    "\n",
    "# Create a session\n",
    "Session = sessionmaker(bind=engine)\n",
    "session = Session()\n",
    "\n",
    "# Define metadata for the model\n",
    "model_metadata = {\n",
    "    \"author\": \"Ruthvik Konduru\",\n",
    "    \"description\": \"Simple linear regression model using returns shifted by 1 to predict returns\",\n",
    "    # Add other metadata fields as needed\n",
    "}\n",
    "\n",
    "#creating model with using copper and lagreturnsstrategy\n",
    "new_model = Model(\n",
    "    name=\"LagReturnsModel\",\n",
    "    file_path=model_file_path,\n",
    "    model_metadata=model_metadata,\n",
    "    metal_id=copper_id,         \n",
    "    strategy_id=strategy_id \n",
    ")\n",
    "session.add(new_model)\n",
    "\n",
    "# Commit the changes to the database\n",
    "session.commit()"
   ]
  },
  {
   "cell_type": "code",
   "execution_count": 23,
   "id": "304a5510-1bc0-4992-b3bc-dccede139042",
   "metadata": {},
   "outputs": [],
   "source": [
    "def get_model_by_name(session, model_name):\n",
    "    model = session.query(Model).filter(Model.name == model_name).first()\n",
    "    return model"
   ]
  },
  {
   "cell_type": "code",
   "execution_count": 22,
   "id": "7d3a8715-3182-4cfa-921a-6a64c22d0dd2",
   "metadata": {
    "tags": []
   },
   "outputs": [
    {
     "name": "stdout",
     "output_type": "stream",
     "text": [
      "LinearRegression()\n"
     ]
    }
   ],
   "source": [
    "model_row = get_model_by_name(session, \"LagReturnsModel\")\n",
    "loaded_model = joblib.load(model_row.file_path)\n",
    "print(loaded_model)"
   ]
  },
  {
   "cell_type": "code",
   "execution_count": 20,
   "id": "8bcd2096-997d-4cc3-a513-2db0adbfd3d9",
   "metadata": {
    "tags": []
   },
   "outputs": [],
   "source": [
    "session.close()"
   ]
  },
  {
   "cell_type": "code",
   "execution_count": null,
   "id": "46c38c00-d63a-4cff-9556-e8d7d715bcfb",
   "metadata": {},
   "outputs": [],
   "source": []
  }
 ],
 "metadata": {
  "kernelspec": {
   "display_name": "Python 3 (ipykernel)",
   "language": "python",
   "name": "python3"
  },
  "language_info": {
   "codemirror_mode": {
    "name": "ipython",
    "version": 3
   },
   "file_extension": ".py",
   "mimetype": "text/x-python",
   "name": "python",
   "nbconvert_exporter": "python",
   "pygments_lexer": "ipython3",
   "version": "3.11.4"
  }
 },
 "nbformat": 4,
 "nbformat_minor": 5
}
